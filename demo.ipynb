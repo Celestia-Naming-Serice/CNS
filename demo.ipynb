{
 "cells": [
  {
   "cell_type": "code",
   "execution_count": 37,
   "metadata": {},
   "outputs": [],
   "source": [
    "import requests\n",
    "import base64\n",
    "from pprint import pprint\n",
    "\n",
    "def get_data(namespace_id:str, height:int):\n",
    "    r = requests.get(f'http://localhost:26658/namespaced_data/{namespace_id}/height/{height}')\n",
    "    \n",
    "    pprint(r.json())\n",
    "\n",
    "    return dict(r.json())\n",
    "\n",
    "def parse(data: str):\n",
    "    decoded_data = base64.b64decode(data).decode('utf-8')\n",
    "    return decoded_data\n",
    "\n",
    "# {'data': ['WW8gV29ybGQ='], 'height': 49351}"
   ]
  },
  {
   "cell_type": "code",
   "execution_count": 38,
   "metadata": {},
   "outputs": [],
   "source": [
    "def post_data(namespace_id, data, gas_limit=70000):\n",
    "    data = data.encode('utf-8')\n",
    "    d = data.hex()\n",
    "    r = requests.post(f'http://localhost:26658/submit_pfd', json={\"namespace_id\":namespace_id,\"data\":d,\"gas_limit\":gas_limit})\n",
    "    pprint(r.json()) \n",
    "    print(get_data('756f60cbe7bf5401',r.json()['height']))"
   ]
  },
  {
   "cell_type": "code",
   "execution_count": 39,
   "metadata": {},
   "outputs": [
    {
     "name": "stdout",
     "output_type": "stream",
     "text": [
      "{'data': '12200A1E2F7061796D656E742E4D7367506179466F7244617461526573706F6E7365',\n",
      " 'events': [{'attributes': [{'index': True, 'key': 'ZmVl', 'value': None}],\n",
      "             'type': 'tx'},\n",
      "            {'attributes': [{'index': True,\n",
      "                             'key': 'YWNjX3NlcQ==',\n",
      "                             'value': 'Y2VsZXN0aWExZ3l3d2M3M3Vja2o3emFhOGczODZ3N3JqbTB2ZzJrNGZ4OXFyYWMvNQ=='}],\n",
      "             'type': 'tx'},\n",
      "            {'attributes': [{'index': True,\n",
      "                             'key': 'c2lnbmF0dXJl',\n",
      "                             'value': 'Z1ZNOEZZeXZIM0ZoNlRybFBHZlFjZUhrWHFvMmFUUjQwNHd5bVhoNUpseGtSWG1jUjdnV0tyb3NqSTNTeDRKRXFjRnhySTRmTnZmV2VNNFFuYnB3L3c9PQ=='}],\n",
      "             'type': 'tx'},\n",
      "            {'attributes': [{'index': True,\n",
      "                             'key': 'YWN0aW9u',\n",
      "                             'value': 'L3BheW1lbnQuTXNnUGF5Rm9yRGF0YQ=='}],\n",
      "             'type': 'message'},\n",
      "            {'attributes': [{'index': True,\n",
      "                             'key': 'c2lnbmVy',\n",
      "                             'value': 'Y2VsZXN0aWExdmRqa2NldG53MzVrenZ0ODA5bWh3Y2VoeGQ2a3g2bTJ4YWF4emNmY3Z1ZW5zZG5oeGFleDVtZnN3ZW5ueTZlNXZldXJqdXRqdjkzc2Vjem1nMw=='},\n",
      "                            {'index': True,\n",
      "                             'key': 'c2l6ZQ==',\n",
      "                             'value': 'MjY='}],\n",
      "             'type': 'payfordata'}],\n",
      " 'gas_used': 44254,\n",
      " 'gas_wanted': 70000,\n",
      " 'height': 49431,\n",
      " 'logs': [{'events': [{'attributes': [{'key': 'action',\n",
      "                                       'value': '/payment.MsgPayForData'}],\n",
      "                       'type': 'message'},\n",
      "                      {'attributes': [{'key': 'signer',\n",
      "                                       'value': 'celestia1vdjkcetnw35kzvt809mhwcehxd6kx6m2xaaxzcfcvuensdnhxaex5mfswenny6e5veurjutjv93seczmg3'},\n",
      "                                      {'key': 'size', 'value': '26'}],\n",
      "                       'type': 'payfordata'}],\n",
      "           'msg_index': 0}],\n",
      " 'raw_log': '[{\"msg_index\":0,\"events\":[{\"type\":\"message\",\"attributes\":[{\"key\":\"action\",\"value\":\"/payment.MsgPayForData\"}]},{\"type\":\"payfordata\",\"attributes\":[{\"key\":\"signer\",\"value\":\"celestia1vdjkcetnw35kzvt809mhwcehxd6kx6m2xaaxzcfcvuensdnhxaex5mfswenny6e5veurjutjv93seczmg3\"},{\"key\":\"size\",\"value\":\"26\"}]}]}]',\n",
      " 'txhash': 'D5DE2C962DA40560B491DFD0EA3D78F72EBB6C2EF88BFEEE6CA578A28E83AD40'}\n",
      "{'data': ['eydQcmF0aGFtJzogJ3ByYXNvb24uY2VsJ30='], 'height': 49431}\n",
      "{'data': ['eydQcmF0aGFtJzogJ3ByYXNvb24uY2VsJ30='], 'height': 49431}\n"
     ]
    }
   ],
   "source": [
    "post_data('756f60cbe7bf5401', \"{'Pratham': 'prasoon.cel'}\")"
   ]
  },
  {
   "cell_type": "markdown",
   "metadata": {},
   "source": [
    "#"
   ]
  },
  {
   "cell_type": "markdown",
   "metadata": {},
   "source": [
    "# Historical Syncing\n",
    "We need to start from block 1 (or whatever block was the latest at the time that we launch this protocol) and process each block until the we get to the latest block."
   ]
  },
  {
   "cell_type": "code",
   "execution_count": 42,
   "metadata": {},
   "outputs": [
    {
     "name": "stdout",
     "output_type": "stream",
     "text": [
      "{'data': [], 'height': 49350}\n",
      "{'data': ['WW8gV29ybGQ='], 'height': 49351}\n",
      "{'data': [], 'height': 49352}\n",
      "{'data': [], 'height': 49353}\n",
      "{'data': [], 'height': 49354}\n",
      "{'data': [], 'height': 49355}\n",
      "{'data': [], 'height': 49356}\n",
      "{'data': [], 'height': 49357}\n",
      "{'data': [], 'height': 49358}\n",
      "{'data': [], 'height': 49359}\n",
      "{'data': [], 'height': 49360}\n",
      "{'data': [], 'height': 49361}\n",
      "{'data': [], 'height': 49362}\n",
      "{'data': [], 'height': 49363}\n",
      "{'data': [], 'height': 49364}\n",
      "{'data': [], 'height': 49365}\n",
      "{'data': [], 'height': 49366}\n",
      "{'data': [], 'height': 49367}\n",
      "{'data': [], 'height': 49368}\n",
      "{'data': [], 'height': 49369}\n",
      "{'data': [], 'height': 49370}\n",
      "{'data': [], 'height': 49371}\n",
      "{'data': [], 'height': 49372}\n",
      "{'data': [], 'height': 49373}\n",
      "{'data': [], 'height': 49374}\n",
      "{'data': [], 'height': 49375}\n",
      "{'data': [], 'height': 49376}\n",
      "{'data': [], 'height': 49377}\n",
      "{'data': [], 'height': 49378}\n",
      "{'data': [], 'height': 49379}\n",
      "{'data': [], 'height': 49380}\n",
      "{'data': [], 'height': 49381}\n",
      "{'data': [], 'height': 49382}\n",
      "{'data': [], 'height': 49383}\n",
      "{'data': [], 'height': 49384}\n",
      "{'data': [], 'height': 49385}\n",
      "{'data': [], 'height': 49386}\n",
      "{'data': [], 'height': 49387}\n",
      "{'data': [], 'height': 49388}\n",
      "{'data': [], 'height': 49389}\n",
      "{'data': [], 'height': 49390}\n",
      "{'data': [], 'height': 49391}\n",
      "{'data': [], 'height': 49392}\n",
      "{'data': [], 'height': 49393}\n",
      "{'data': [], 'height': 49394}\n",
      "{'data': [], 'height': 49395}\n",
      "{'data': [], 'height': 49396}\n",
      "{'data': [], 'height': 49397}\n",
      "{'data': [], 'height': 49398}\n",
      "{'data': [], 'height': 49399}\n",
      "{'data': [], 'height': 49400}\n",
      "{'data': [], 'height': 49401}\n",
      "{'data': [], 'height': 49402}\n",
      "{'data': [], 'height': 49403}\n",
      "{'data': [], 'height': 49404}\n",
      "{'data': [], 'height': 49405}\n",
      "{'data': [], 'height': 49406}\n",
      "{'data': [], 'height': 49407}\n",
      "{'data': [], 'height': 49408}\n",
      "{'data': [], 'height': 49409}\n",
      "{'data': [], 'height': 49410}\n",
      "{'data': [], 'height': 49411}\n",
      "{'data': [], 'height': 49412}\n",
      "{'data': [], 'height': 49413}\n",
      "{'data': [], 'height': 49414}\n",
      "{'data': [], 'height': 49415}\n",
      "{'data': [], 'height': 49416}\n",
      "{'data': [], 'height': 49417}\n",
      "{'data': [], 'height': 49418}\n",
      "{'data': [], 'height': 49419}\n",
      "{'data': [], 'height': 49420}\n",
      "{'data': [], 'height': 49421}\n",
      "{'data': [], 'height': 49422}\n",
      "{'data': [], 'height': 49423}\n",
      "{'data': [], 'height': 49424}\n",
      "{'data': [], 'height': 49425}\n",
      "{'data': [], 'height': 49426}\n",
      "{'data': [], 'height': 49427}\n",
      "{'data': [], 'height': 49428}\n",
      "{'data': [], 'height': 49429}\n",
      "{'data': [], 'height': 49430}\n",
      "{'data': ['eydQcmF0aGFtJzogJ3ByYXNvb24uY2VsJ30='], 'height': 49431}\n",
      "{'Pratham': 'prasoon.cel'}\n"
     ]
    }
   ],
   "source": [
    "my_namespace = '756f60cbe7bf5401'\n",
    "initialHeight = 49350\n",
    "latestHeight = 49432 # for example\n",
    "for height in range(initialHeight, latestHeight):\n",
    "    data_list = get_data(my_namespace, height)\n",
    "    #{'data': [], 'height': 1}\n",
    "    try:\n",
    "        parsed_data = parse(data_list.get('data')[0])\n",
    "        print(dict(eval(parsed_data)))\n",
    "        # update_state(parsed_data)\n",
    "    except Exception:\n",
    "        pass"
   ]
  },
  {
   "cell_type": "code",
   "execution_count": 41,
   "metadata": {},
   "outputs": [
    {
     "data": {
      "text/plain": [
       "\"{'Pratham': 'prasoon.cel'}\""
      ]
     },
     "execution_count": 41,
     "metadata": {},
     "output_type": "execute_result"
    }
   ],
   "source": [
    "parse('eydQcmF0aGFtJzogJ3ByYXNvb24uY2VsJ30=')"
   ]
  },
  {
   "cell_type": "code",
   "execution_count": 3,
   "metadata": {},
   "outputs": [
    {
     "name": "stdout",
     "output_type": "stream",
     "text": [
      "hello!\n"
     ]
    }
   ],
   "source": [
    "print(\"hello!\")"
   ]
  }
 ],
 "metadata": {
  "kernelspec": {
   "display_name": "Python 3.10.6 ('CNS')",
   "language": "python",
   "name": "python3"
  },
  "language_info": {
   "codemirror_mode": {
    "name": "ipython",
    "version": 3
   },
   "file_extension": ".py",
   "mimetype": "text/x-python",
   "name": "python",
   "nbconvert_exporter": "python",
   "pygments_lexer": "ipython3",
   "version": "3.10.6"
  },
  "orig_nbformat": 4,
  "vscode": {
   "interpreter": {
    "hash": "91434f146e567bff534bb8b832b58bce3b5741e5f73491141784805aa6fe4a0b"
   }
  }
 },
 "nbformat": 4,
 "nbformat_minor": 2
}
