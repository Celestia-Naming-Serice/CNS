{
 "cells": [
  {
   "cell_type": "code",
   "execution_count": 1,
   "metadata": {},
   "outputs": [],
   "source": [
    "import requests\n",
    "import base64\n",
    "from pprint import pprint\n",
    "\n",
    "def get_data(namespace_id:str, height:int):\n",
    "    r = requests.get(f'http://localhost:26659/namespaced_data/{namespace_id}/height/{height}')\n",
    "    return dict(r.json())"
   ]
  },
  {
   "cell_type": "code",
   "execution_count": 2,
   "metadata": {},
   "outputs": [],
   "source": [
    "def parse(data: str):\n",
    "    decoded_data = base64.b64decode(data).decode('utf-8')\n",
    "    return decoded_data"
   ]
  },
  {
   "cell_type": "code",
   "execution_count": 3,
   "metadata": {},
   "outputs": [],
   "source": [
    "def post_data(namespace_id, data, gas_limit=70000):\n",
    "    data = data.encode('utf-8')\n",
    "    d = data.hex()\n",
    "    r = requests.post(f'http://localhost:26659/submit_pfd', json={\"namespace_id\":namespace_id,\"data\":d,\"gas_limit\":gas_limit})\n",
    "    pprint(r.json()) \n",
    "    print(get_data('756f60cbe7bf5401',r.json()['height']))"
   ]
  },
  {
   "cell_type": "code",
   "execution_count": 14,
   "metadata": {},
   "outputs": [
    {
     "name": "stdout",
     "output_type": "stream",
     "text": [
      "{'data': '12200A1E2F7061796D656E742E4D7367506179466F7244617461526573706F6E7365',\n",
      " 'events': [{'attributes': [{'index': True, 'key': 'ZmVl', 'value': None}],\n",
      "             'type': 'tx'},\n",
      "            {'attributes': [{'index': True,\n",
      "                             'key': 'YWNjX3NlcQ==',\n",
      "                             'value': 'Y2VsZXN0aWExOGdsMjBsYTM3NmdqanFrdGRzNjQyYzkzNG50ajhybXZrd3Z5cDcvMg=='}],\n",
      "             'type': 'tx'},\n",
      "            {'attributes': [{'index': True,\n",
      "                             'key': 'c2lnbmF0dXJl',\n",
      "                             'value': 'Z2lPb1Z0dkREekhhbXR4clBObUZwMVh4dklwVmdSQ1VPQ0wvM0ZsWllYb2hHUnRWV09JTStRM2JlT2ZnOFBieHJxcWdoVFVWbXlXOHhZRWZibktyMGc9PQ=='}],\n",
      "             'type': 'tx'},\n",
      "            {'attributes': [{'index': True,\n",
      "                             'key': 'YWN0aW9u',\n",
      "                             'value': 'L3BheW1lbnQuTXNnUGF5Rm9yRGF0YQ=='}],\n",
      "             'type': 'message'},\n",
      "            {'attributes': [{'index': True,\n",
      "                             'key': 'c2lnbmVy',\n",
      "                             'value': 'Y2VsZXN0aWExdmRqa2NldG53MzVrenZmY3Zha3J5dnJ2dnllbndkbjhkZjQ4ejZtNXYzZW52ZHBqdnZ1bnhkcnd3MzRyc3VuZHdlNGh3YW5ld3Ftc2ZhYWVoeA=='},\n",
      "                            {'index': True,\n",
      "                             'key': 'c2l6ZQ==',\n",
      "                             'value': 'MjY='}],\n",
      "             'type': 'payfordata'}],\n",
      " 'gas_used': 44254,\n",
      " 'gas_wanted': 70000,\n",
      " 'height': 27088,\n",
      " 'logs': [{'events': [{'attributes': [{'key': 'action',\n",
      "                                       'value': '/payment.MsgPayForData'}],\n",
      "                       'type': 'message'},\n",
      "                      {'attributes': [{'key': 'signer',\n",
      "                                       'value': 'celestia1vdjkcetnw35kzvfcvakryvrvvyenwdn8df48z6m5v3envdpjvvunxdrww34rsundwe4hwanewqmsfaaehx'},\n",
      "                                      {'key': 'size', 'value': '26'}],\n",
      "                       'type': 'payfordata'}],\n",
      "           'msg_index': 0}],\n",
      " 'raw_log': '[{\"msg_index\":0,\"events\":[{\"type\":\"message\",\"attributes\":[{\"key\":\"action\",\"value\":\"/payment.MsgPayForData\"}]},{\"type\":\"payfordata\",\"attributes\":[{\"key\":\"signer\",\"value\":\"celestia1vdjkcetnw35kzvfcvakryvrvvyenwdn8df48z6m5v3envdpjvvunxdrww34rsundwe4hwanewqmsfaaehx\"},{\"key\":\"size\",\"value\":\"26\"}]}]}]',\n",
      " 'txhash': '137FD1A07A71D00EEA0B3D0203F121E535FE6A34FE5BE0C0881C6AEDB5810453'}\n",
      "{'data': ['eydQcmF0aGFtJzogJ3ByYXNvb24uY2VsJ30='], 'height': 27088}\n"
     ]
    }
   ],
   "source": [
    "post_data('756f60cbe7bf5401', \"{'Pratham': 'prasoon.cel'}\")"
   ]
  },
  {
   "cell_type": "code",
   "execution_count": 5,
   "metadata": {},
   "outputs": [],
   "source": [
    "# {\"type\": \"REGISTER_NAME\", \"payload\": {\"name\": \"Pratham\"}, signature: \"123\"}\n",
    "state = dict() # initial state is empty\n",
    "\n",
    "# TODO: real implementation\n",
    "def get_address(signature):\n",
    "    # pretend like the address is the signature\n",
    "    return signature\n",
    "\n",
    "# can be improved\n",
    "def is_valid_address(address):\n",
    "    return address == str\n",
    "\n",
    "def update_state(action):\n",
    "    actionType = action.get(\"type\")\n",
    "    address = get_address(action.get(\"signature\"))\n",
    "    if actionType == \"REGISTER_NAME\":\n",
    "        name = action.get(\"payload\").get(\"name\")\n",
    "        state.setdefault(name, address)\n",
    "    elif actionType == \"TRANSFER_NAME\":\n",
    "        name = action.get(\"payload\").get(\"name\")\n",
    "        recipient = action.get(\"payload\").get(\"recipient\")\n",
    "        if state.get(name) is address and is_valid_address(recipient):\n",
    "            state.set(name, recipient)"
   ]
  },
  {
   "cell_type": "markdown",
   "metadata": {},
   "source": [
    "#"
   ]
  },
  {
   "cell_type": "markdown",
   "metadata": {},
   "source": [
    "# Historical Syncing\n",
    "We need to start from block 1 (or whatever block was the latest at the time that we launch this protocol) and process each block until the we get to the latest block."
   ]
  },
  {
   "cell_type": "code",
   "execution_count": 16,
   "metadata": {},
   "outputs": [
    {
     "name": "stdout",
     "output_type": "stream",
     "text": [
      "{'Pratham': 'prasoon.cel'}\n",
      "{'data': ['eydQcmF0aGFtJzogJ3ByYXNvb24uY2VsJ30='], 'height': 27071}\n",
      "{'Pratham': 'prasoon.cel'}\n",
      "{'data': ['eydQcmF0aGFtJzogJ3ByYXNvb24uY2VsJ30='], 'height': 27088}\n"
     ]
    }
   ],
   "source": [
    "my_namespace = '756f60cbe7bf5401'\n",
    "initialHeight = 27070\n",
    "latestHeight = 27089 # for example\n",
    "for height in range(initialHeight, latestHeight):\n",
    "    data_list = get_data(my_namespace, height)\n",
    "    try:\n",
    "        parsed_data = parse(data_list.get('data')[0])\n",
    "        update_state(dict(eval(parsed_data)))\n",
    "        print(dict(eval(parsed_data)))\n",
    "        print(data_list)\n",
    "    except Exception:\n",
    "        pass"
   ]
  }
 ],
 "metadata": {
  "kernelspec": {
   "display_name": "Python 3.11.0 ('CNS')",
   "language": "python",
   "name": "python3"
  },
  "language_info": {
   "codemirror_mode": {
    "name": "ipython",
    "version": 3
   },
   "file_extension": ".py",
   "mimetype": "text/x-python",
   "name": "python",
   "nbconvert_exporter": "python",
   "pygments_lexer": "ipython3",
   "version": "3.11.0"
  },
  "orig_nbformat": 4,
  "vscode": {
   "interpreter": {
    "hash": "167a8c00c46c2ae357d2c59cc183671518fd8f5c72a9ade51a4a4e07952512f3"
   }
  }
 },
 "nbformat": 4,
 "nbformat_minor": 2
}
