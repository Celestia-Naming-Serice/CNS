{
 "cells": [
  {
   "cell_type": "code",
   "execution_count": 1,
   "metadata": {},
   "outputs": [],
   "source": [
    "import requests\n",
    "import base64\n",
    "from pprint import pprint\n",
    "\n",
    "def get_data(namespace_id:str, height:int):\n",
    "    r = requests.get(f'http://localhost:26658/namespaced_data/{namespace_id}/height/{height}')\n",
    "    return dict(r.json())"
   ]
  },
  {
   "cell_type": "code",
   "execution_count": 2,
   "metadata": {},
   "outputs": [],
   "source": [
    "def parse(data: str):\n",
    "    decoded_data = base64.b64decode(data).decode('utf-8')\n",
    "    return decoded_data"
   ]
  },
  {
   "cell_type": "code",
   "execution_count": 3,
   "metadata": {},
   "outputs": [],
   "source": [
    "def post_data(namespace_id, data, gas_limit=70000):\n",
    "    data = data.encode('utf-8')\n",
    "    d = data.hex()\n",
    "    r = requests.post(f'http://localhost:26658/submit_pfd', json={\"namespace_id\":namespace_id,\"data\":d,\"gas_limit\":gas_limit})\n",
    "    pprint(r.json()) \n",
    "    print(get_data('756f60cbe7bf5401',r.json()['height']))"
   ]
  },
  {
   "cell_type": "code",
   "execution_count": 4,
   "metadata": {},
   "outputs": [
    {
     "name": "stdout",
     "output_type": "stream",
     "text": [
      "{'data': '12200A1E2F7061796D656E742E4D7367506179466F7244617461526573706F6E7365',\n",
      " 'events': [{'attributes': [{'index': True, 'key': 'ZmVl', 'value': None}],\n",
      "             'type': 'tx'},\n",
      "            {'attributes': [{'index': True,\n",
      "                             'key': 'YWNjX3NlcQ==',\n",
      "                             'value': 'Y2VsZXN0aWExczNucTA2ZXRmNTJmc2ZoN2t2Nm5xMHhyNjh5MnJ2d2NzY2UyMncvNw=='}],\n",
      "             'type': 'tx'},\n",
      "            {'attributes': [{'index': True,\n",
      "                             'key': 'c2lnbmF0dXJl',\n",
      "                             'value': 'MkJGdGE5Y2Q3bktRVjZyQW1FOUszWllLOUk3bW80Wi9ldTkrR0pMVXNob3ZoNHZvdjdtQXd0NHcxaHFDaitjL0p5SUdhN3A4UVRmQTIzZk9lS2IxZHc9PQ=='}],\n",
      "             'type': 'tx'},\n",
      "            {'attributes': [{'index': True,\n",
      "                             'key': 'YWN0aW9u',\n",
      "                             'value': 'L3BheW1lbnQuTXNnUGF5Rm9yRGF0YQ=='}],\n",
      "             'type': 'message'},\n",
      "            {'attributes': [{'index': True,\n",
      "                             'key': 'c2lnbmVy',\n",
      "                             'value': 'Y2VsZXN0aWExdmRqa2NldG53MzVrenZ0bnhkaDh6dnBrdjQ2eHZkZmp2ZWVrdjZwaGRkbXJ2bW4zeHB1OHlkM2MweWU4eWFuaHZkZWt4ZWZqeGZtc2ozbnM0OQ=='},\n",
      "                            {'index': True,\n",
      "                             'key': 'c2l6ZQ==',\n",
      "                             'value': 'MjY='}],\n",
      "             'type': 'payfordata'}],\n",
      " 'gas_used': 44254,\n",
      " 'gas_wanted': 70000,\n",
      " 'height': 59877,\n",
      " 'logs': [{'events': [{'attributes': [{'key': 'action',\n",
      "                                       'value': '/payment.MsgPayForData'}],\n",
      "                       'type': 'message'},\n",
      "                      {'attributes': [{'key': 'signer',\n",
      "                                       'value': 'celestia1vdjkcetnw35kzvtnxdh8zvpkv46xvdfjveekv6phddmrvmn3xpu8yd3c0ye8yanhvdekxefjxfmsj3ns49'},\n",
      "                                      {'key': 'size', 'value': '26'}],\n",
      "                       'type': 'payfordata'}],\n",
      "           'msg_index': 0}],\n",
      " 'raw_log': '[{\"msg_index\":0,\"events\":[{\"type\":\"message\",\"attributes\":[{\"key\":\"action\",\"value\":\"/payment.MsgPayForData\"}]},{\"type\":\"payfordata\",\"attributes\":[{\"key\":\"signer\",\"value\":\"celestia1vdjkcetnw35kzvtnxdh8zvpkv46xvdfjveekv6phddmrvmn3xpu8yd3c0ye8yanhvdekxefjxfmsj3ns49\"},{\"key\":\"size\",\"value\":\"26\"}]}]}]',\n",
      " 'txhash': 'C321174C56341EDE80CC795FE358B7E6B3BA10987E3B815A5F4CA92D4ED56A44'}\n",
      "{'data': ['eydQcmF0aGFtJzogJ3ByYXNvb24uY2VsJ30='], 'height': 59877}\n"
     ]
    }
   ],
   "source": [
    "post_data('756f60cbe7bf5401', \"{'Pratham': 'prasoon.cel'}\")"
   ]
  },
  {
   "cell_type": "code",
   "execution_count": 7,
   "metadata": {},
   "outputs": [],
   "source": [
    "# {\"type\": \"REGISTER_NAME\", \"payload\": {\"name\": \"Pratham\"}, signature: \"123\"}\n",
    "state = dict() # initial state is empty\n",
    "\n",
    "# TODO: real implementation\n",
    "def get_address(signature):\n",
    "    # pretend like the address is the signature\n",
    "    return signature\n",
    "\n",
    "# can be improved\n",
    "def is_valid_address(address):\n",
    "    return address == str\n",
    "\n",
    "def update_state(action):\n",
    "    actionType = action.get(\"type\")\n",
    "    address = get_address(action.get(\"signature\"))\n",
    "    if actionType == \"REGISTER_NAME\":\n",
    "        name = action.get(\"payload\").get(\"name\")\n",
    "        state.setdefault(name, address)\n",
    "    elif actionType == \"TRANSFER_NAME\":\n",
    "        name = action.get(\"payload\").get(\"name\")\n",
    "        recipient = action.get(\"payload\").get(\"recipient\")\n",
    "        if state.get(name) is address and is_valid_address(recipient):\n",
    "            state.set(name, recipient)"
   ]
  },
  {
   "cell_type": "markdown",
   "metadata": {},
   "source": [
    "#"
   ]
  },
  {
   "cell_type": "markdown",
   "metadata": {},
   "source": [
    "# Historical Syncing\n",
    "We need to start from block 1 (or whatever block was the latest at the time that we launch this protocol) and process each block until the we get to the latest block."
   ]
  },
  {
   "cell_type": "code",
   "execution_count": 12,
   "metadata": {},
   "outputs": [
    {
     "name": "stdout",
     "output_type": "stream",
     "text": [
      "{'Pratham': 'prasoon.cel'}\n",
      "{'data': ['eydQcmF0aGFtJzogJ3ByYXNvb24uY2VsJ30='], 'height': 49431}\n"
     ]
    }
   ],
   "source": [
    "my_namespace = '756f60cbe7bf5401'\n",
    "initialHeight = 49350\n",
    "latestHeight = 49432 # for example\n",
    "for height in range(initialHeight, latestHeight):\n",
    "    data_list = get_data(my_namespace, height)\n",
    "    try:\n",
    "        parsed_data = parse(data_list.get('data')[0])\n",
    "        update_state(dict(eval(parsed_data)))\n",
    "        print(dict(eval(parsed_data)))\n",
    "        print(data_list)\n",
    "    except Exception:\n",
    "        pass"
   ]
  }
 ],
 "metadata": {
  "kernelspec": {
   "display_name": "Python 3.11.0 ('CNS')",
   "language": "python",
   "name": "python3"
  },
  "language_info": {
   "codemirror_mode": {
    "name": "ipython",
    "version": 3
   },
   "file_extension": ".py",
   "mimetype": "text/x-python",
   "name": "python",
   "nbconvert_exporter": "python",
   "pygments_lexer": "ipython3",
   "version": "3.11.0"
  },
  "orig_nbformat": 4,
  "vscode": {
   "interpreter": {
    "hash": "167a8c00c46c2ae357d2c59cc183671518fd8f5c72a9ade51a4a4e07952512f3"
   }
  }
 },
 "nbformat": 4,
 "nbformat_minor": 2
}
