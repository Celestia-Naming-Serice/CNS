{
 "cells": [
  {
   "cell_type": "code",
   "execution_count": 37,
   "metadata": {},
   "outputs": [],
   "source": [
    "import requests\n",
    "import base64\n",
    "from pprint import pprint\n",
    "\n",
    "def get_data(namespace_id:str, height:int):\n",
    "    r = requests.get(f'http://localhost:26658/namespaced_data/{namespace_id}/height/{height}')\n",
    "    return dict(r.json())"
   ]
  },
  {
   "cell_type": "code",
   "execution_count": null,
   "metadata": {},
   "outputs": [],
   "source": [
    "def parse(data: str):\n",
    "    decoded_data = base64.b64decode(data).decode('utf-8')\n",
    "    return decoded_data"
   ]
  },
  {
   "cell_type": "code",
   "execution_count": 38,
   "metadata": {},
   "outputs": [],
   "source": [
    "def post_data(namespace_id, data, gas_limit=70000):\n",
    "    data = data.encode('utf-8')\n",
    "    d = data.hex()\n",
    "    r = requests.post(f'http://localhost:26658/submit_pfd', json={\"namespace_id\":namespace_id,\"data\":d,\"gas_limit\":gas_limit})\n",
    "    pprint(r.json()) \n",
    "    print(get_data('756f60cbe7bf5401',r.json()['height']))"
   ]
  },
  {
   "cell_type": "code",
   "execution_count": null,
   "metadata": {},
   "outputs": [],
   "source": [
    "post_data('756f60cbe7bf5401', \"{'Pratham': 'prasoon.cel'}\")"
   ]
  },
  {
   "cell_type": "code",
   "execution_count": null,
   "metadata": {},
   "outputs": [],
   "source": [
    "# {\"type\": \"REGISTER_NAME\", \"payload\": {\"name\": \"Pratham\"}, signature: \"123\"}\n",
    "state = dict() # initial state is empty\n",
    "\n",
    "# TODO: real implementation\n",
    "def get_address(signature):\n",
    "    # pretend like the address is the signature\n",
    "    return signature\n",
    "\n",
    "# can be improved\n",
    "def is_valid_address(address):\n",
    "    return address == str\n",
    "\n",
    "def update_state(action):\n",
    "    actionType = action.get(\"type\")\n",
    "    address = get_address(action.get(\"signature\"))\n",
    "    if actionType is \"REGISTER_NAME\":\n",
    "        name = action.get(\"payload\").get(\"name\")\n",
    "        state.setdefault(name, address)\n",
    "    elif actionType is \"TRANSFER_NAME\":\n",
    "        name = action.get(\"payload\").get(\"name\")\n",
    "        recipient = action.get(\"payload\").get(\"recipient\")\n",
    "        if state.get(name) is address and is_valid_address(recipient):\n",
    "            state.set(name, recipient)"
   ]
  },
  {
   "cell_type": "markdown",
   "metadata": {},
   "source": [
    "#"
   ]
  },
  {
   "cell_type": "code",
   "execution_count": 45,
   "metadata": {},
   "outputs": [
    {
     "ename": "TypeError",
     "evalue": "dict expected at most 1 argument, got 2",
     "output_type": "error",
     "traceback": [
      "\u001b[1;31m---------------------------------------------------------------------------\u001b[0m",
      "\u001b[1;31mTypeError\u001b[0m                                 Traceback (most recent call last)",
      "Cell \u001b[1;32mIn [45], line 1\u001b[0m\n\u001b[1;32m----> 1\u001b[0m x \u001b[39m=\u001b[39m \u001b[39mdict\u001b[39m(\u001b[39mdict\u001b[39;49m(\u001b[39m'\u001b[39;49m\u001b[39mstr\u001b[39;49m\u001b[39m'\u001b[39;49m, \u001b[39m123\u001b[39;49m), \u001b[39m5\u001b[39m)\n",
      "\u001b[1;31mTypeError\u001b[0m: dict expected at most 1 argument, got 2"
     ]
    }
   ],
   "source": [
    "x = dict(dict('str' : 123) : 5)"
   ]
  },
  {
   "cell_type": "markdown",
   "metadata": {},
   "source": [
    "# Historical Syncing\n",
    "We need to start from block 1 (or whatever block was the latest at the time that we launch this protocol) and process each block until the we get to the latest block."
   ]
  },
  {
   "cell_type": "code",
   "execution_count": null,
   "metadata": {},
   "outputs": [],
   "source": [
    "my_namespace = '756f60cbe7bf5401'\n",
    "initialHeight = 49350\n",
    "latestHeight = 49432 # for example\n",
    "for height in range(initialHeight, latestHeight):\n",
    "    data_list = get_data(my_namespace, height)\n",
    "    try:\n",
    "        parsed_data = parse(data_list.get('data')[0])\n",
    "        update_state(dict(eval(parsed_data)))\n",
    "    except Exception:\n",
    "        pass"
   ]
  },
  {
   "cell_type": "code",
   "execution_count": null,
   "metadata": {},
   "outputs": [],
   "source": []
  }
 ],
 "metadata": {
  "kernelspec": {
   "display_name": "Python 3.10.6 ('CNS')",
   "language": "python",
   "name": "python3"
  },
  "language_info": {
   "codemirror_mode": {
    "name": "ipython",
    "version": 3
   },
   "file_extension": ".py",
   "mimetype": "text/x-python",
   "name": "python",
   "nbconvert_exporter": "python",
   "pygments_lexer": "ipython3",
   "version": "3.10.6"
  },
  "orig_nbformat": 4,
  "vscode": {
   "interpreter": {
    "hash": "91434f146e567bff534bb8b832b58bce3b5741e5f73491141784805aa6fe4a0b"
   }
  }
 },
 "nbformat": 4,
 "nbformat_minor": 2
}
