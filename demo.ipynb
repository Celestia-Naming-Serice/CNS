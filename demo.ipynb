{
 "cells": [
  {
   "cell_type": "code",
   "execution_count": 1,
   "metadata": {},
   "outputs": [],
   "source": [
    "import requests\n",
    "import base64\n",
    "from pprint import pprint\n",
    "\n",
    "def get_data(namespace_id:str, height:int):\n",
    "    r = requests.get(f'http://localhost:26659/namespaced_data/{namespace_id}/height/{height}')\n",
    "    return dict(r.json())"
   ]
  },
  {
   "cell_type": "code",
   "execution_count": 2,
   "metadata": {},
   "outputs": [],
   "source": [
    "from google.protobuf.message import DecodeError\n",
    "from blob_pb2 import Blob\n",
    "\n",
    "def is_valid_protobuf(data: bytes) -> bool:\n",
    "    try:\n",
    "        # Attempt to parse the data as a Blob message\n",
    "        Blob().ParseFromString(data)\n",
    "        return True\n",
    "    except DecodeError:\n",
    "        return False"
   ]
  },
  {
   "cell_type": "code",
   "execution_count": 3,
   "metadata": {},
   "outputs": [
    {
     "name": "stdout",
     "output_type": "stream",
     "text": [
      "pratham.tia\n",
      "abcd123CELESTIA\n"
     ]
    }
   ],
   "source": [
    "from blob_pb2 import Blob\n",
    "\n",
    "blob = Blob(address_owner=\"abcd123CELESTIA\", name=\"pratham.tia\")\n",
    "data = blob.SerializeToString()\n",
    "\n",
    "blob = Blob()\n",
    "blob.ParseFromString(data)\n",
    "print(blob.name)\n",
    "print(blob.address)"
   ]
  },
  {
   "cell_type": "code",
   "execution_count": 4,
   "metadata": {},
   "outputs": [],
   "source": [
    "def parse(data: str):\n",
    "    decoded_data = base64.b64decode(data).decode('utf-8')\n",
    "    return decoded_data"
   ]
  },
  {
   "cell_type": "code",
   "execution_count": 5,
   "metadata": {},
   "outputs": [],
   "source": [
    "import binascii\n",
    "\n",
    "hex_bytes = binascii.hexlify(data).decode('utf-8')"
   ]
  },
  {
   "cell_type": "code",
   "execution_count": 6,
   "metadata": {},
   "outputs": [],
   "source": [
    "d = data.hex()"
   ]
  },
  {
   "cell_type": "code",
   "execution_count": 7,
   "metadata": {},
   "outputs": [
    {
     "data": {
      "text/plain": [
       "'0a0f6162636431323343454c4553544941120b7072617468616d2e746961'"
      ]
     },
     "execution_count": 7,
     "metadata": {},
     "output_type": "execute_result"
    }
   ],
   "source": [
    "d"
   ]
  },
  {
   "cell_type": "code",
   "execution_count": 8,
   "metadata": {},
   "outputs": [
    {
     "data": {
      "text/plain": [
       "b'\\n\\x0fabcd123CELESTIA\\x12\\x0bpratham.tia'"
      ]
     },
     "execution_count": 8,
     "metadata": {},
     "output_type": "execute_result"
    }
   ],
   "source": [
    "binascii.unhexlify(d)"
   ]
  },
  {
   "cell_type": "code",
   "execution_count": 9,
   "metadata": {},
   "outputs": [
    {
     "data": {
      "text/plain": [
       "'0a0f6162636431323343454c4553544941120b7072617468616d2e746961'"
      ]
     },
     "execution_count": 9,
     "metadata": {},
     "output_type": "execute_result"
    }
   ],
   "source": [
    "hex_bytes"
   ]
  },
  {
   "cell_type": "code",
   "execution_count": 10,
   "metadata": {},
   "outputs": [],
   "source": [
    "def post_data(namespace_id, data, gas_limit=70000):\n",
    "    d = data.hex()\n",
    "    r = requests.post(f'http://localhost:26659/submit_pfd', json={\"namespace_id\":namespace_id,\"data\":d,\"gas_limit\":gas_limit})\n",
    "    pprint(r.json()) \n",
    "    print(get_data('756f60cbe7bf5401',r.json()['height']))"
   ]
  },
  {
   "cell_type": "code",
   "execution_count": 11,
   "metadata": {},
   "outputs": [
    {
     "data": {
      "text/plain": [
       "{'data': ['Cg9hYmNkMTIzQ0VMRVNUSUESC3ByYXRoYW0udGlh'], 'height': 79192}"
      ]
     },
     "execution_count": 11,
     "metadata": {},
     "output_type": "execute_result"
    }
   ],
   "source": [
    "get_data('756f60cbe7bf5401', 79192)"
   ]
  },
  {
   "cell_type": "code",
   "execution_count": null,
   "metadata": {},
   "outputs": [],
   "source": [
    "from blob_pb2 import Blob\n",
    "\n",
    "post_data('756f60cbe7bf5401', data)"
   ]
  },
  {
   "cell_type": "code",
   "execution_count": 13,
   "metadata": {},
   "outputs": [],
   "source": [
    "# {\"type\": \"REGISTER_NAME\", \"payload\": {\"name\": \"Pratham\"}, signature: \"123\"}\n",
    "state = dict() # initial state is empty\n",
    "\n",
    "# TODO: real implementation\n",
    "def get_address(signature):\n",
    "    # pretend like the address is the signature\n",
    "    return signature\n",
    "\n",
    "# can be improved\n",
    "def is_valid_address(address):\n",
    "    return address == str\n",
    "\n",
    "def update_state(action):\n",
    "    actionType = action.get(\"type\")\n",
    "    address = get_address(action.get(\"signature\"))\n",
    "    if actionType == \"REGISTER_NAME\":\n",
    "        name = action.get(\"payload\").get(\"name\")\n",
    "        state.setdefault(name, address)\n",
    "    elif actionType == \"TRANSFER_NAME\":\n",
    "        name = action.get(\"payload\").get(\"name\")\n",
    "        recipient = action.get(\"payload\").get(\"recipient\")\n",
    "        if state.get(name) is address and is_valid_address(recipient):\n",
    "            state.set(name, recipient)"
   ]
  },
  {
   "cell_type": "code",
   "execution_count": 14,
   "metadata": {},
   "outputs": [
    {
     "data": {
      "text/plain": [
       "{'data': ['Cg9hYmNkMTIzQ0VMRVNUSUESC3ByYXRoYW0udGlh'], 'height': 79043}"
      ]
     },
     "execution_count": 14,
     "metadata": {},
     "output_type": "execute_result"
    }
   ],
   "source": [
    "get_data(\"756f60cbe7bf5401\",79043)"
   ]
  },
  {
   "cell_type": "code",
   "execution_count": 15,
   "metadata": {},
   "outputs": [],
   "source": [
    "def get_shares(namespace_id:str, height:int):\n",
    "    r = requests.get(f'http://localhost:26659/namespaced_shares/{namespace_id}/height/{height}')\n",
    "    return dict(r.json())"
   ]
  },
  {
   "cell_type": "markdown",
   "metadata": {},
   "source": [
    "#"
   ]
  },
  {
   "cell_type": "markdown",
   "metadata": {},
   "source": [
    "# Historical Syncing\n",
    "We need to start from block 1 (or whatever block was the latest at the time that we launch this protocol) and process each block until the we get to the latest block."
   ]
  },
  {
   "cell_type": "code",
   "execution_count": 16,
   "metadata": {},
   "outputs": [
    {
     "data": {
      "text/plain": [
       "{'shares': ['dW9gy+e/VAEBGnsnUHJhdGhhbSc6ICdwcmFzb29uLmNlbCd9AAAAAAAAAAAAAAAAAAAAAAAAAAAAAAAAAAAAAAAAAAAAAAAAAAAAAAAAAAAAAAAAAAAAAAAAAAAAAAAAAAAAAAAAAAAAAAAAAAAAAAAAAAAAAAAAAAAAAAAAAAAAAAAAAAAAAAAAAAAAAAAAAAAAAAAAAAAAAAAAAAAAAAAAAAAAAAAAAAAAAAAAAAAAAAAAAAAAAAAAAAAAAAAAAAAAAAAAAAAAAAAAAAAAAAAAAAAAAAAAAAAAAAAAAAAAAAAAAAAAAAAAAAAAAAAAAAAAAAAAAAAAAAAAAAAAAAAAAAAAAAAAAAAAAAAAAAAAAAAAAAAAAAAAAAAAAAAAAAAAAAAAAAAAAAAAAAAAAAAAAAAAAAAAAAAAAAAAAAAAAAAAAAAAAAAAAAAAAAAAAAAAAAAAAAAAAAAAAAAAAAAAAAAAAAAAAAAAAAAAAAAAAAAAAAAAAAAAAAAAAAAAAAAAAAAAAAAAAAAAAAAAAAAAAAAAAAAAAAAAAAAAAAAAAAAAAAAAAAAAAAAAAAAAAAAAAAAAAAAAAAAAAAAAAAAAAAAAAAAAAAAAAAAAAAAAAAAAAAAAAAAAAAAAAAAAAAAAAAAAAAAAAAAAAAAAAAAAAAAAAAAAAAAAAAAAAAA='],\n",
       " 'height': 27071}"
      ]
     },
     "execution_count": 16,
     "metadata": {},
     "output_type": "execute_result"
    }
   ],
   "source": [
    "get_shares(\"756f60cbe7bf5401\",27071)"
   ]
  },
  {
   "cell_type": "code",
   "execution_count": 17,
   "metadata": {},
   "outputs": [
    {
     "name": "stdout",
     "output_type": "stream",
     "text": [
      "Trying 79010\n",
      "Trying 79011\n",
      "Trying 79012\n",
      "Trying 79013\n",
      "Trying 79014\n"
     ]
    }
   ],
   "source": [
    "my_namespace = '756f60cbe7bf5401'\n",
    "initialHeight = 79010\n",
    "latestHeight = 79015 # for example\n",
    "for height in range(initialHeight, latestHeight):\n",
    "    data_list = get_data(my_namespace, height)\n",
    "    print(\"Trying\", height)\n",
    "    try:\n",
    "        \n",
    "        parsed_data = parse(data_list.get('data')[0])\n",
    "        update_state(dict(eval(parsed_data)))\n",
    "        print(is_valid_protobuf(parsed_data))\n",
    "        print(data_list)\n",
    "    except Exception:\n",
    "        pass"
   ]
  },
  {
   "cell_type": "markdown",
   "metadata": {},
   "source": [
    "# Playing with Proto Buffers"
   ]
  },
  {
   "cell_type": "code",
   "execution_count": 187,
   "metadata": {},
   "outputs": [
    {
     "name": "stdout",
     "output_type": "stream",
     "text": [
      "pratham.tia\n",
      "abcd123CELESTIA\n"
     ]
    }
   ],
   "source": []
  },
  {
   "cell_type": "code",
   "execution_count": 177,
   "metadata": {},
   "outputs": [],
   "source": []
  },
  {
   "cell_type": "code",
   "execution_count": null,
   "metadata": {},
   "outputs": [],
   "source": []
  }
 ],
 "metadata": {
  "kernelspec": {
   "display_name": "Python 3.11.0 ('CNS')",
   "language": "python",
   "name": "python3"
  },
  "language_info": {
   "codemirror_mode": {
    "name": "ipython",
    "version": 3
   },
   "file_extension": ".py",
   "mimetype": "text/x-python",
   "name": "python",
   "nbconvert_exporter": "python",
   "pygments_lexer": "ipython3",
   "version": "3.11.0 | packaged by conda-forge | (main, Oct 25 2022, 06:21:25) [Clang 14.0.4 ]"
  },
  "orig_nbformat": 4,
  "vscode": {
   "interpreter": {
    "hash": "167a8c00c46c2ae357d2c59cc183671518fd8f5c72a9ade51a4a4e07952512f3"
   }
  }
 },
 "nbformat": 4,
 "nbformat_minor": 2
}
